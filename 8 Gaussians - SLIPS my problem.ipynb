{
 "cells": [
  {
   "cell_type": "code",
   "execution_count": 2,
   "id": "6784a1b6-22d0-4170-b4ac-d18d1a5a85e7",
   "metadata": {},
   "outputs": [],
   "source": [
    "# Libraries\n",
    "import torch\n",
    "import math\n",
    "from tqdm import trange\n",
    "from slips.samplers.mcmc import MCMCScoreEstimator\n",
    "from slips.samplers.sto_loc import sto_loc_algorithm, sample_y_init\n",
    "from slips.samplers.alphas import *\n",
    "import matplotlib.pyplot as plt\n",
    "import ot\n",
    "import utils.densities as distributions\n",
    "\n",
    "import numpy as np"
   ]
  },
  {
   "cell_type": "code",
   "execution_count": 3,
   "id": "a0494dec",
   "metadata": {},
   "outputs": [],
   "source": [
    "def get_w2(samples1,samples2):\n",
    "    n , m = samples1.shape[0], samples2.shape[0]\n",
    "    M = ot.dist(samples1,samples2)\n",
    "    a, b = torch.ones((n,),device=samples1.device) / n, torch.ones((m,),device=samples2.device) / m\n",
    "    return ot.emd2(a,b,M)**.5\n"
   ]
  },
  {
   "cell_type": "code",
   "execution_count": 4,
   "id": "5659c4e7-b650-4297-9570-53dbac383d31",
   "metadata": {},
   "outputs": [],
   "source": [
    "# Make a Pytorch device\n",
    "device = torch.device('cuda')"
   ]
  },
  {
   "cell_type": "code",
   "execution_count": 5,
   "id": "099fcac3-6331-4daa-a788-55d47f702d52",
   "metadata": {},
   "outputs": [],
   "source": [
    "# Make the target distribution\n",
    "weights = torch.tensor([.1,.2,.3,.4],device=device)\n",
    "means = torch.tensor([[0,0.],[0,11],[9,9],[11,0]],device=device)\n",
    "variances = torch.tensor([[[1, .5],[.5,1]],[[.3, -0.2],[-0.2,.3]],[[1, .3],[.3,1]],[[1.2, -1],[-1,1.2]]],device=device)\n",
    "target = distributions.MixtureDistribution(weights, [distributions.MultivariateGaussian(means[i],variances[i]) for i in range(4)])"
   ]
  },
  {
   "cell_type": "code",
   "execution_count": 6,
   "id": "476e01e4",
   "metadata": {},
   "outputs": [
    {
     "name": "stdout",
     "output_type": "stream",
     "text": [
      "tensor([4.8635, 5.0864], device='cuda:0')\n",
      "tensor(123.6498, device='cuda:0')\n"
     ]
    }
   ],
   "source": [
    "samples_target = target.sample(1000).to(device=device)\n",
    "print((samples_target.std(dim=0)))\n",
    "print((samples_target**2).sum(-1).mean())"
   ]
  },
  {
   "cell_type": "code",
   "execution_count": 7,
   "id": "e6e29e99-8b2c-445b-b3f5-840503ab52ba",
   "metadata": {},
   "outputs": [],
   "source": [
    "# Get the score of the target distribution\n",
    "def target_log_prob_and_grad(y):\n",
    "    y_ = torch.autograd.Variable(y, requires_grad=True)\n",
    "    log_prob_y = target.log_prob(y_).flatten()\n",
    "    return log_prob_y, torch.autograd.grad(log_prob_y.sum(), y_)[0].detach()"
   ]
  },
  {
   "cell_type": "code",
   "execution_count": 8,
   "id": "15a57286",
   "metadata": {},
   "outputs": [],
   "source": [
    "def get_samples_slips(t0, std):\n",
    "    sigma = torch.tensor(std)\n",
    "    alpha = AlphaGeometric(a=1.0, b=1.0)\n",
    "\n",
    "    # Hyper-parameters\n",
    "    n_samples = 2048\n",
    "    K = 1024\n",
    "    n_mcmc_steps = 32\n",
    "    n_mcmc_chains = 4\n",
    "    epsilon, epsilon_end, T = t0, 6.62e-03, 1.0\n",
    "\n",
    "    # Prepare the score estimator\n",
    "    score_est = MCMCScoreEstimator(\n",
    "        step_size=1e-5,\n",
    "        n_mcmc_samples=n_mcmc_steps,\n",
    "        log_prob_and_grad=target_log_prob_and_grad,\n",
    "        n_mcmc_chains=n_mcmc_chains,\n",
    "        keep_mcmc_length=int(0.5 * n_mcmc_steps)\n",
    "    )\n",
    "\n",
    "    # Sample the initial point with Langevin-within-Langevin\n",
    "    y_init = sample_y_init((n_samples, 2), sigma=sigma, epsilon=epsilon, alpha=alpha, device=device,\n",
    "            n_langevin_steps=32, langevin_init=True, score_est=score_est, score_type='mc')\n",
    "\n",
    "    # Run the SLIPS algorithm\n",
    "    samples = sto_loc_algorithm(alpha=alpha, y_init=y_init, K=K, T=T, sigma=sigma, score_est=score_est, score_type='mc',\n",
    "        epsilon=epsilon, epsilon_end=epsilon_end, use_exponential_integrator=True, use_snr_discretization=True,\n",
    "        verbose=True\n",
    "    ).detach().cpu()\n",
    "\n",
    "    return samples"
   ]
  },
  {
   "cell_type": "code",
   "execution_count": 9,
   "id": "145e9757",
   "metadata": {},
   "outputs": [
    {
     "name": "stderr",
     "output_type": "stream",
     "text": [
      "100%|██████████| 1023/1023 [03:32<00:00,  4.81it/s]\n"
     ]
    },
    {
     "name": "stdout",
     "output_type": "stream",
     "text": [
      " 0.35000 ---  8.41274\n"
     ]
    }
   ],
   "source": [
    "samples = get_samples_slips(.35,5).to(device)\n",
    "print(f'{.35 : .5f} --- {get_w2(samples,samples_target) : .5f}')\n"
   ]
  },
  {
   "cell_type": "code",
   "execution_count": 10,
   "id": "7b031cb4",
   "metadata": {},
   "outputs": [
    {
     "name": "stdout",
     "output_type": "stream",
     "text": [
      "[1.0e-07 1.0e-06 1.0e-05 1.0e-04 1.0e-03 1.0e-02 1.0e-01 2.0e-01 3.0e-01\n",
      " 3.5e-01 4.0e-01 5.0e-01]\n"
     ]
    },
    {
     "name": "stderr",
     "output_type": "stream",
     "text": [
      "100%|██████████| 1023/1023 [03:37<00:00,  4.70it/s]\n"
     ]
    },
    {
     "name": "stdout",
     "output_type": "stream",
     "text": [
      " 0.00000 ---  17962.07031\n"
     ]
    },
    {
     "name": "stderr",
     "output_type": "stream",
     "text": [
      "100%|██████████| 1023/1023 [03:20<00:00,  5.10it/s]\n"
     ]
    },
    {
     "name": "stdout",
     "output_type": "stream",
     "text": [
      " 0.00000 ---  5496.64355\n"
     ]
    },
    {
     "name": "stderr",
     "output_type": "stream",
     "text": [
      "100%|██████████| 1023/1023 [00:49<00:00, 20.60it/s]\n"
     ]
    },
    {
     "name": "stdout",
     "output_type": "stream",
     "text": [
      " 0.00001 ---  653.80280\n"
     ]
    },
    {
     "name": "stderr",
     "output_type": "stream",
     "text": [
      "100%|██████████| 1023/1023 [00:48<00:00, 21.21it/s]\n"
     ]
    },
    {
     "name": "stdout",
     "output_type": "stream",
     "text": [
      " 0.00010 ---  5.21865\n"
     ]
    },
    {
     "name": "stderr",
     "output_type": "stream",
     "text": [
      "100%|██████████| 1023/1023 [00:49<00:00, 20.81it/s]\n"
     ]
    },
    {
     "name": "stdout",
     "output_type": "stream",
     "text": [
      " 0.00100 ---  5.10800\n"
     ]
    },
    {
     "name": "stderr",
     "output_type": "stream",
     "text": [
      "100%|██████████| 1023/1023 [00:49<00:00, 20.80it/s]\n"
     ]
    },
    {
     "name": "stdout",
     "output_type": "stream",
     "text": [
      " 0.01000 ---  5.54249\n"
     ]
    },
    {
     "name": "stderr",
     "output_type": "stream",
     "text": [
      "100%|██████████| 1023/1023 [00:51<00:00, 19.93it/s]\n"
     ]
    },
    {
     "name": "stdout",
     "output_type": "stream",
     "text": [
      " 0.10000 ---  6.77297\n"
     ]
    },
    {
     "name": "stderr",
     "output_type": "stream",
     "text": [
      "100%|██████████| 1023/1023 [00:50<00:00, 20.32it/s]\n"
     ]
    },
    {
     "name": "stdout",
     "output_type": "stream",
     "text": [
      " 0.20000 ---  7.53148\n"
     ]
    },
    {
     "name": "stderr",
     "output_type": "stream",
     "text": [
      "100%|██████████| 1023/1023 [00:51<00:00, 20.02it/s]\n"
     ]
    },
    {
     "name": "stdout",
     "output_type": "stream",
     "text": [
      " 0.30000 ---  8.11765\n"
     ]
    },
    {
     "name": "stderr",
     "output_type": "stream",
     "text": [
      "100%|██████████| 1023/1023 [00:53<00:00, 19.17it/s]\n"
     ]
    },
    {
     "name": "stdout",
     "output_type": "stream",
     "text": [
      " 0.35000 ---  8.53969\n"
     ]
    },
    {
     "name": "stderr",
     "output_type": "stream",
     "text": [
      "100%|██████████| 1023/1023 [00:47<00:00, 21.47it/s]\n"
     ]
    },
    {
     "name": "stdout",
     "output_type": "stream",
     "text": [
      " 0.40000 ---  8.67329\n"
     ]
    },
    {
     "name": "stderr",
     "output_type": "stream",
     "text": [
      "100%|██████████| 1023/1023 [00:44<00:00, 22.85it/s]\n"
     ]
    },
    {
     "name": "stdout",
     "output_type": "stream",
     "text": [
      " 0.50000 ---  9.26004\n"
     ]
    }
   ],
   "source": [
    "t0s = np.float_power(10,np.arange(-7, 0,1))\n",
    "t0s = np.concatenate((t0s, np.array([.2,.3,.35,.4,.5])))\n",
    "print(t0s)\n",
    "std_target = 5\n",
    "for t0 in t0s:\n",
    "    samples = get_samples_slips(t0,std_target).to(device)\n",
    "    print(f'{t0 : .5f} --- {get_w2(samples,samples_target) : .5f}')"
   ]
  },
  {
   "cell_type": "code",
   "execution_count": 11,
   "id": "61b88249",
   "metadata": {},
   "outputs": [
    {
     "name": "stderr",
     "output_type": "stream",
     "text": [
      "100%|██████████| 1023/1023 [00:45<00:00, 22.24it/s]\n"
     ]
    },
    {
     "name": "stdout",
     "output_type": "stream",
     "text": [
      " 0.00000 ---  17818.11523\n"
     ]
    },
    {
     "name": "stderr",
     "output_type": "stream",
     "text": [
      "100%|██████████| 1023/1023 [00:46<00:00, 21.90it/s]\n"
     ]
    },
    {
     "name": "stdout",
     "output_type": "stream",
     "text": [
      " 0.00000 ---  5286.01562\n"
     ]
    },
    {
     "name": "stderr",
     "output_type": "stream",
     "text": [
      "100%|██████████| 1023/1023 [00:46<00:00, 22.00it/s]\n"
     ]
    },
    {
     "name": "stdout",
     "output_type": "stream",
     "text": [
      " 0.00001 ---  702.44720\n"
     ]
    },
    {
     "name": "stderr",
     "output_type": "stream",
     "text": [
      "100%|██████████| 1023/1023 [00:47<00:00, 21.69it/s]\n"
     ]
    },
    {
     "name": "stdout",
     "output_type": "stream",
     "text": [
      " 0.00010 ---  5.23430\n"
     ]
    },
    {
     "name": "stderr",
     "output_type": "stream",
     "text": [
      "100%|██████████| 1023/1023 [00:48<00:00, 21.31it/s]\n"
     ]
    },
    {
     "name": "stdout",
     "output_type": "stream",
     "text": [
      " 0.00100 ---  5.28475\n"
     ]
    },
    {
     "name": "stderr",
     "output_type": "stream",
     "text": [
      "100%|██████████| 1023/1023 [00:47<00:00, 21.71it/s]\n"
     ]
    },
    {
     "name": "stdout",
     "output_type": "stream",
     "text": [
      " 0.01000 ---  5.45479\n"
     ]
    },
    {
     "name": "stderr",
     "output_type": "stream",
     "text": [
      "100%|██████████| 1023/1023 [00:51<00:00, 20.00it/s]\n"
     ]
    },
    {
     "name": "stdout",
     "output_type": "stream",
     "text": [
      " 0.10000 ---  6.40194\n"
     ]
    }
   ],
   "source": [
    "t0s = np.float_power(10,np.arange(-7, 0,1))\n",
    "std_target = 5\n",
    "for t0 in t0s:\n",
    "    samples = get_samples_slips(t0,std_target).to(device)\n",
    "    print(f'{t0 : .5f} --- {get_w2(samples,samples_target) : .5f}')\n"
   ]
  },
  {
   "cell_type": "markdown",
   "id": "b19dc36c",
   "metadata": {},
   "source": [
    "in practice we set 10k independent of the target, we observed isnensitivity and we always see that samples got accepted so the tthreshohld didnt get reached"
   ]
  },
  {
   "cell_type": "code",
   "execution_count": 12,
   "id": "17f3d98a-f257-4e6a-a505-4c6c6a38423e",
   "metadata": {},
   "outputs": [
    {
     "ename": "NameError",
     "evalue": "name 'y_init' is not defined",
     "output_type": "error",
     "traceback": [
      "\u001b[0;31m---------------------------------------------------------------------------\u001b[0m",
      "\u001b[0;31mNameError\u001b[0m                                 Traceback (most recent call last)",
      "Cell \u001b[0;32mIn[12], line 3\u001b[0m\n\u001b[1;32m      1\u001b[0m \u001b[38;5;66;03m# Display samples\u001b[39;00m\n\u001b[1;32m      2\u001b[0m plt\u001b[38;5;241m.\u001b[39mfigure(figsize\u001b[38;5;241m=\u001b[39m(\u001b[38;5;241m5\u001b[39m,\u001b[38;5;241m5\u001b[39m))\n\u001b[0;32m----> 3\u001b[0m plt\u001b[38;5;241m.\u001b[39mscatter(\u001b[43my_init\u001b[49m[:,\u001b[38;5;241m0\u001b[39m]\u001b[38;5;241m.\u001b[39mcpu()\u001b[38;5;241m.\u001b[39mnumpy(), y_init[:,\u001b[38;5;241m1\u001b[39m]\u001b[38;5;241m.\u001b[39mcpu()\u001b[38;5;241m.\u001b[39mnumpy())\n\u001b[1;32m      4\u001b[0m plt\u001b[38;5;241m.\u001b[39mscatter(samples[:,\u001b[38;5;241m0\u001b[39m], samples[:,\u001b[38;5;241m1\u001b[39m], alpha\u001b[38;5;241m=\u001b[39m\u001b[38;5;241m0.5\u001b[39m)\n\u001b[1;32m      5\u001b[0m plt\u001b[38;5;241m.\u001b[39mxlabel(\u001b[38;5;124m'\u001b[39m\u001b[38;5;124mx\u001b[39m\u001b[38;5;124m'\u001b[39m)\n",
      "\u001b[0;31mNameError\u001b[0m: name 'y_init' is not defined"
     ]
    },
    {
     "data": {
      "text/plain": [
       "<Figure size 500x500 with 0 Axes>"
      ]
     },
     "metadata": {},
     "output_type": "display_data"
    }
   ],
   "source": [
    "# Display samples\n",
    "plt.figure(figsize=(5,5))\n",
    "plt.scatter(y_init[:,0].cpu().numpy(), y_init[:,1].cpu().numpy())\n",
    "plt.scatter(samples[:,0], samples[:,1], alpha=0.5)\n",
    "plt.xlabel('x')\n",
    "plt.ylabel('y')\n",
    "plt.title('Samples from SLIPS')\n",
    "plt.show()"
   ]
  },
  {
   "cell_type": "code",
   "execution_count": null,
   "id": "fbc7f0b3-499e-471c-8661-9a48a7224410",
   "metadata": {},
   "outputs": [
    {
     "name": "stdout",
     "output_type": "stream",
     "text": [
      "tensor(5.0300)\n"
     ]
    },
    {
     "data": {
      "image/png": "[encoded data removed]",
      "text/plain": [
       "<Figure size 500x500 with 1 Axes>"
      ]
     },
     "metadata": {},
     "output_type": "display_data"
    }
   ],
   "source": [
    "# Display target samples\n",
    "plt.figure(figsize=(5,5))\n",
    "target_samples = target.sample(samples.shape[0]).cpu()\n",
    "print(target_samples.std())\n",
    "plt.scatter(target_samples[:,0], target_samples[:,1], alpha=0.5)\n",
    "plt.xlabel('x')\n",
    "plt.ylabel('y')\n",
    "plt.title('Samples from the target')\n",
    "plt.show()"
   ]
  },
  {
   "cell_type": "code",
   "execution_count": null,
   "id": "dd513e61",
   "metadata": {},
   "outputs": [
    {
     "data": {
      "text/plain": [
       "tensor(8.3469)"
      ]
     },
     "execution_count": 14,
     "metadata": {},
     "output_type": "execute_result"
    }
   ],
   "source": []
  }
 ],
 "metadata": {
  "kernelspec": {
   "display_name": "Python 3 (ipykernel)",
   "language": "python",
   "name": "python3"
  },
  "language_info": {
   "codemirror_mode": {
    "name": "ipython",
    "version": 3
   },
   "file_extension": ".py",
   "mimetype": "text/x-python",
   "name": "python",
   "nbconvert_exporter": "python",
   "pygments_lexer": "ipython3",
   "version": "3.12.3"
  }
 },
 "nbformat": 4,
 "nbformat_minor": 5
}
